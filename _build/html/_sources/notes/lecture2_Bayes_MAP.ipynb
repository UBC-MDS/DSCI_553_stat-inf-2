{
 "cells": [
  {
   "cell_type": "markdown",
   "metadata": {
    "editable": true,
    "slideshow": {
     "slide_type": "slide"
    },
    "tags": []
   },
   "source": [
    "# Lecture 2 - Conditional Probabilities, Bayes' Rule, and Maximum a Posteriori Estimation"
   ]
  },
  {
   "cell_type": "markdown",
   "metadata": {
    "editable": true,
    "slideshow": {
     "slide_type": "slide"
    },
    "tags": []
   },
   "source": [
    "## Today's Learning Objectives\n",
    "\n",
    "1. Illustrate the concept of conditional probability.\n",
    "2. Apply the Bayes rule to probabilistic inquiries.\n",
    "3. Introduce the concept of maximum a posteriori (MAP) estimation.\n",
    "4. Relate MAP with maximum likelihood (MLE) estimation."
   ]
  },
  {
   "cell_type": "markdown",
   "metadata": {
    "editable": true,
    "slideshow": {
     "slide_type": "slide"
    },
    "tags": []
   },
   "source": [
    "## 0. What is next?\n",
    "\n",
    "Previously, we discussed **the drawbacks frequentist inference could have**. Hence, we concluded we might need a better approach for complex systems while leaving some wiggle room to randomness (i.e., a **probabilistic generative model**). \n",
    "\n",
    "Furthermore, our modelling might need to incorporate **latent variables** if we cannot directly observe our variable of interest."
   ]
  },
  {
   "cell_type": "markdown",
   "metadata": {
    "editable": true,
    "slideshow": {
     "slide_type": "slide"
    },
    "tags": []
   },
   "source": [
    "```{important}\n",
    "Both types of inference, frequentist and Bayesian, could use **probabilistic generative models** but the difference lies in their **statistical reasoning**. \n",
    "```"
   ]
  },
  {
   "cell_type": "markdown",
   "metadata": {
    "editable": true,
    "slideshow": {
     "slide_type": ""
    },
    "tags": []
   },
   "source": [
    "```{exercise}\n",
    ":label: lecture2-q1\n",
    "\n",
    "**Answer TRUE or FALSE:**\n",
    "\n",
    "**Bayesians assume that population parameters are random**, unlike frequentists who assume these parameters are fixed.\n",
    "\n",
    "**A.** TRUE\n",
    "\n",
    "**B.** FALSE\n",
    "```"
   ]
  },
  {
   "cell_type": "markdown",
   "metadata": {
    "editable": true,
    "slideshow": {
     "slide_type": "slide"
    },
    "tags": []
   },
   "source": [
    "Let us recall the concept of **recursive updating**.\n",
    "\n",
    "<br>\n",
    "<center><img width=\"700\" src=\"https://www.bayesrulesbook.com/chapters/figs/chapter_1/bayes_diagram.png\"/></center>\n",
    "\n",
    "*Source: [Johnson et al. (2021)](https://www.bayesrulesbook.com/chapter-1.html)*"
   ]
  },
  {
   "cell_type": "markdown",
   "metadata": {
    "editable": true,
    "slideshow": {
     "slide_type": "slide"
    },
    "tags": []
   },
   "source": [
    "## 1. Conditional Probability\n",
    "\n",
    "This lecture will retake different probability concepts you might already be familiar with (**from DSCI 551**). Nonetheless, these concepts will pave the way to a key concept in this inferential course: **the Bayes' rule**.\n",
    "\n",
    "<center>        \n",
    "<img src=\"https://logos-world.net/wp-content/uploads/2020/09/Tinder-Logo.png\" width=\"300\" height=\"170\"/>\n",
    "</center>\n",
    "        \n",
    "To illustrate these concepts, **for the single population living in Vancouver looking for a partner**, let us suppose we want to estimate the probability of finding a partner **given** they have used the Tinder app. \n",
    "\n",
    "We collect a random sample from this population of interest, follow them up for two months, and get our study results involving whether they found a partner or not, along with whether they used Tinder (**since we started monitoring them**)."
   ]
  },
  {
   "cell_type": "markdown",
   "metadata": {
    "editable": true,
    "slideshow": {
     "slide_type": "slide"
    },
    "tags": []
   },
   "source": [
    "Note the following:\n",
    "\n",
    "- We have a sample $S$, whose **cardinality** (*i.e., number of subjects within the dataset*) is $\\mid S \\mid$. **This cardinality is basically our sample size.**\n",
    "- Let $L$ be the following **primary** event of interest: **they found a partner** (<font color='red'>$L$ for love </font>). Then, with $\\mid L \\mid$ being the cardinality of this subset of sampled people, its probability will be defined by\n",
    "\n",
    "$$P(L) = \\frac{\\mid L \\mid}{\\mid S \\mid}.$$"
   ]
  },
  {
   "cell_type": "markdown",
   "metadata": {
    "editable": true,
    "slideshow": {
     "slide_type": "slide"
    },
    "tags": []
   },
   "source": [
    "Graphically, the event $L$ can be represented as:\n",
    "\n",
    "```{figure} ../img/venn_A.jpg\n",
    ":height: 350px\n",
    ":name: venn_A\n",
    "```"
   ]
  },
  {
   "cell_type": "markdown",
   "metadata": {
    "editable": true,
    "slideshow": {
     "slide_type": "slide"
    },
    "tags": []
   },
   "source": [
    "Calculating $P(L)$ is really straightforward using our sampled data. However, in many instances, we would like to update our sampling space based on a **secondary** event of interest. \n",
    "\n",
    "That is right! This other event of interest is **using Tinder to find a partner**.\n",
    "\n",
    "Thus, let us define $T$ as: **using Tinder to find a partner**. Then, with $\\mid T \\mid$ being the cardinality of this subset of sampled people, its probability will be defined by\n",
    "\n",
    "$$P(T) = \\frac{\\mid T \\mid}{\\mid S \\mid}.$$"
   ]
  },
  {
   "cell_type": "markdown",
   "metadata": {
    "editable": true,
    "slideshow": {
     "slide_type": "slide"
    },
    "tags": []
   },
   "source": [
    "Graphically, the event $T$ can be represented as:\n",
    "\n",
    "```{figure} ../img/venn_B.jpg\n",
    ":height: 350px\n",
    ":name: venn_B\n",
    "```"
   ]
  },
  {
   "cell_type": "markdown",
   "metadata": {
    "editable": true,
    "slideshow": {
     "slide_type": "slide"
    },
    "tags": []
   },
   "source": [
    "Moreover, assume we have subjects in our sample who found partner **and** used Tinder; i.e., there is an intersection of events: $L \\cap T$. Then, with $\\mid L \\cap T \\mid$ being the cardinality of this subset of sampled people, its probability will be defined by\n",
    "\n",
    "$$P(L \\cap T) = \\frac{\\mid L \\cap T \\mid}{\\mid S \\mid}$$"
   ]
  },
  {
   "cell_type": "markdown",
   "metadata": {
    "editable": true,
    "slideshow": {
     "slide_type": "slide"
    },
    "tags": []
   },
   "source": [
    "Graphically, the event $L \\cap T$ (i.e., $L$ **and** $T$) can be represented as:\n",
    "\n",
    "```{figure} ../img/venn_C.jpg\n",
    ":height: 350px\n",
    ":name: venn_C\n",
    "```"
   ]
  },
  {
   "cell_type": "markdown",
   "metadata": {
    "editable": true,
    "slideshow": {
     "slide_type": "slide"
    },
    "tags": []
   },
   "source": [
    "**From the perspective of a Tinder user who is using the app the find a partner**, recall our initial objective: *we want to infer the probability of finding a partner **given** we use the Tinder app in Vancouver*. In probability notation, this is coded as a conditional probability: \n",
    "\n",
    "$$P(L \\mid T) = \\text{Probability of finding a partner GIVEN we use Tinder}$$"
   ]
  },
  {
   "cell_type": "markdown",
   "metadata": {
    "editable": true,
    "slideshow": {
     "slide_type": "slide"
    },
    "tags": []
   },
   "source": [
    "We zoom in the previous figure:\n",
    "\n",
    "```{figure} ../img/venn_D.jpg\n",
    ":height: 350px\n",
    ":name: venn_D\n",
    "```\n",
    "\n",
    "**Let us focus on the areas indicating the event $T$ and intersection $L \\cap T$ (i.e., $L$ and $T$).** Thus, how can we compute $P(L \\mid T)$?"
   ]
  },
  {
   "cell_type": "markdown",
   "metadata": {
    "editable": true,
    "slideshow": {
     "slide_type": "slide"
    },
    "tags": []
   },
   "source": [
    "Our previous probability calculations will help us as follows:\n",
    "\n",
    "```{math}\n",
    "\\begin{align*}\n",
    "P(L \\mid T) &= \\frac{\\mid L \\cap T \\mid}{\\mid T \\mid} \\\\\n",
    "&= \\frac{\\frac{\\mid L \\cap T \\mid}{\\mid S \\mid}}{\\frac{\\mid T \\mid}{\\mid S \\mid}} && \\text{diving numerator and denominator over } \\mid S \\mid \\\\\n",
    "&= \\frac{P(L \\cap T)}{P(T)}\n",
    "\\end{align*}\n",
    "```\n",
    "\n",
    "We just derived the conditional probability formula for $P(L \\mid T)$."
   ]
  },
  {
   "cell_type": "markdown",
   "metadata": {
    "editable": true,
    "slideshow": {
     "slide_type": "slide"
    },
    "tags": []
   },
   "source": [
    "```{attention}\n",
    "$P(L \\mid T)$ will be the **ultimate finding** in this lecture.\n",
    "```"
   ]
  },
  {
   "cell_type": "markdown",
   "metadata": {
    "editable": true,
    "slideshow": {
     "slide_type": "slide"
    },
    "tags": []
   },
   "source": [
    "````{admonition} Formal Definition of Conditional Probability\n",
    ":class: important\n",
    "Let $L$ and $T$ be two events of interest within the sample $S$, and $P(T) > 0$, then the **conditional probability** of $L$ given $T$ is defined as:\n",
    "\n",
    "```{math}\n",
    ":label: cond-prob\n",
    "P(L \\mid T) = \\frac{P(L \\cap T)}{P(T)}\n",
    "```\n",
    "````"
   ]
  },
  {
   "cell_type": "markdown",
   "metadata": {
    "editable": true,
    "slideshow": {
     "slide_type": "slide"
    },
    "tags": []
   },
   "source": [
    "```{exercise}\n",
    ":label: lecture2-q2\n",
    "\n",
    "What is going on in the equation {eq}`cond-prob`? **Select the correct answer.**\n",
    "\n",
    "**A.** Event $L$ becomes the new sample space.\n",
    "\n",
    "**B.** Event $T$ becomes the new sample space.\n",
    "\n",
    "**C.** The sample space $S$ remains the same under condition $T$.\n",
    "```"
   ]
  },
  {
   "cell_type": "markdown",
   "metadata": {
    "editable": true,
    "slideshow": {
     "slide_type": "slide"
    },
    "tags": []
   },
   "source": [
    "## 2. Bayes' Rule Fundamentals\n",
    "\n",
    "Let us proceed with our Tinder study! We will put in practice the workflow of the **recursive updating** in a first iteration.\n",
    "\n",
    "<br>\n",
    "<center><img width=\"700\" src=\"https://www.bayesrulesbook.com/chapters/figs/chapter_1/bayes_diagram.png\"/></center>\n",
    "\n",
    "*Source: [Johnson et al. (2021)](https://www.bayesrulesbook.com/chapter-1.html)*"
   ]
  },
  {
   "cell_type": "markdown",
   "metadata": {
    "editable": true,
    "slideshow": {
     "slide_type": "slide"
    },
    "tags": []
   },
   "source": [
    "### 2.1. Main Statistical Inquiry\n",
    "\n",
    "We must set up our main inquiry if we implement the Bayesian recursive updating. Suppose your are a social local researcher and Tinder enthusiast:"
   ]
  },
  {
   "cell_type": "markdown",
   "metadata": {
    "editable": true,
    "slideshow": {
     "slide_type": "slide"
    },
    "tags": []
   },
   "source": [
    "> Via our **observed data** (a.k.a, **observed evidence**) and **prior social research**, we want to make inference on the probability of finding a partner **given** we used the Tinder app in Vancouver, i.e., $P(L \\mid T)$."
   ]
  },
  {
   "cell_type": "markdown",
   "metadata": {
    "editable": true,
    "slideshow": {
     "slide_type": "slide"
    },
    "tags": []
   },
   "source": [
    "### 2.2. The Data\n",
    "\n",
    "Let us start with the data. Suppose we collected the data from the population of interest (**adult single people in Vancouver**) via a sample of size `100`. The dataset `tinder_obs_sample` has two variables of interest: `tinder` (`User` or `Non-User`) and `rel_status` (`Partnered` or `Non-Partnered`)."
   ]
  },
  {
   "cell_type": "code",
   "execution_count": 1,
   "metadata": {
    "editable": true,
    "slideshow": {
     "slide_type": "skip"
    },
    "tags": []
   },
   "outputs": [
    {
     "name": "stderr",
     "output_type": "stream",
     "text": [
      "\n",
      "Attaching package: ‘janitor’\n",
      "\n",
      "\n",
      "The following objects are masked from ‘package:stats’:\n",
      "\n",
      "    chisq.test, fisher.test\n",
      "\n",
      "\n",
      "── \u001b[1mAttaching core tidyverse packages\u001b[22m ─────────────────────────────────────────────────── tidyverse 2.0.0 ──\n",
      "\u001b[32m✔\u001b[39m \u001b[34mdplyr    \u001b[39m 1.1.4     \u001b[32m✔\u001b[39m \u001b[34mreadr    \u001b[39m 2.1.5\n",
      "\u001b[32m✔\u001b[39m \u001b[34mforcats  \u001b[39m 1.0.0     \u001b[32m✔\u001b[39m \u001b[34mstringr  \u001b[39m 1.5.1\n",
      "\u001b[32m✔\u001b[39m \u001b[34mggplot2  \u001b[39m 3.5.1     \u001b[32m✔\u001b[39m \u001b[34mtibble   \u001b[39m 3.2.1\n",
      "\u001b[32m✔\u001b[39m \u001b[34mlubridate\u001b[39m 1.9.3     \u001b[32m✔\u001b[39m \u001b[34mtidyr    \u001b[39m 1.3.1\n",
      "\u001b[32m✔\u001b[39m \u001b[34mpurrr    \u001b[39m 1.0.2     \n",
      "── \u001b[1mConflicts\u001b[22m ───────────────────────────────────────────────────────────────────── tidyverse_conflicts() ──\n",
      "\u001b[31m✖\u001b[39m \u001b[34mdplyr\u001b[39m::\u001b[32mfilter()\u001b[39m masks \u001b[34mstats\u001b[39m::filter()\n",
      "\u001b[31m✖\u001b[39m \u001b[34mdplyr\u001b[39m::\u001b[32mlag()\u001b[39m    masks \u001b[34mstats\u001b[39m::lag()\n",
      "\u001b[36mℹ\u001b[39m Use the conflicted package (\u001b[3m\u001b[34m<http://conflicted.r-lib.org/>\u001b[39m\u001b[23m) to force all conflicts to become errors\n",
      "\n",
      "Attaching package: ‘scales’\n",
      "\n",
      "\n",
      "The following object is masked from ‘package:purrr’:\n",
      "\n",
      "    discard\n",
      "\n",
      "\n",
      "The following object is masked from ‘package:readr’:\n",
      "\n",
      "    col_factor\n",
      "\n",
      "\n"
     ]
    }
   ],
   "source": [
    "options(repr.matrix.max.rows = 6)\n",
    "library(janitor)\n",
    "library(tidyverse)\n",
    "library(scales)"
   ]
  },
  {
   "cell_type": "code",
   "execution_count": 2,
   "metadata": {
    "editable": true,
    "slideshow": {
     "slide_type": "slide"
    },
    "tags": []
   },
   "outputs": [
    {
     "data": {
      "text/html": [
       "<table class=\"dataframe\">\n",
       "<caption>A spec_tbl_df: 100 × 2</caption>\n",
       "<thead>\n",
       "\t<tr><th scope=col>tinder</th><th scope=col>rel_status</th></tr>\n",
       "\t<tr><th scope=col>&lt;chr&gt;</th><th scope=col>&lt;chr&gt;</th></tr>\n",
       "</thead>\n",
       "<tbody>\n",
       "\t<tr><td>User    </td><td>Non-Partnered</td></tr>\n",
       "\t<tr><td>User    </td><td>Non-Partnered</td></tr>\n",
       "\t<tr><td>Non-User</td><td>Partnered    </td></tr>\n",
       "\t<tr><td>⋮</td><td>⋮</td></tr>\n",
       "\t<tr><td>User    </td><td>Non-Partnered</td></tr>\n",
       "\t<tr><td>Non-User</td><td>Partnered    </td></tr>\n",
       "\t<tr><td>User    </td><td>Partnered    </td></tr>\n",
       "</tbody>\n",
       "</table>\n"
      ],
      "text/latex": [
       "A spec\\_tbl\\_df: 100 × 2\n",
       "\\begin{tabular}{ll}\n",
       " tinder & rel\\_status\\\\\n",
       " <chr> & <chr>\\\\\n",
       "\\hline\n",
       "\t User     & Non-Partnered\\\\\n",
       "\t User     & Non-Partnered\\\\\n",
       "\t Non-User & Partnered    \\\\\n",
       "\t ⋮ & ⋮\\\\\n",
       "\t User     & Non-Partnered\\\\\n",
       "\t Non-User & Partnered    \\\\\n",
       "\t User     & Partnered    \\\\\n",
       "\\end{tabular}\n"
      ],
      "text/markdown": [
       "\n",
       "A spec_tbl_df: 100 × 2\n",
       "\n",
       "| tinder &lt;chr&gt; | rel_status &lt;chr&gt; |\n",
       "|---|---|\n",
       "| User     | Non-Partnered |\n",
       "| User     | Non-Partnered |\n",
       "| Non-User | Partnered     |\n",
       "| ⋮ | ⋮ |\n",
       "| User     | Non-Partnered |\n",
       "| Non-User | Partnered     |\n",
       "| User     | Partnered     |\n",
       "\n"
      ],
      "text/plain": [
       "    tinder   rel_status   \n",
       "1   User     Non-Partnered\n",
       "2   User     Non-Partnered\n",
       "3   Non-User Partnered    \n",
       "⋮   ⋮        ⋮            \n",
       "98  User     Non-Partnered\n",
       "99  Non-User Partnered    \n",
       "100 User     Partnered    "
      ]
     },
     "metadata": {},
     "output_type": "display_data"
    }
   ],
   "source": [
    "tinder_obs_sample <- read_csv(\"../data/tinder_obs_sample.csv\", show_col_types = FALSE)\n",
    "tinder_obs_sample"
   ]
  },
  {
   "cell_type": "markdown",
   "metadata": {
    "editable": true,
    "slideshow": {
     "slide_type": "slide"
    },
    "tags": []
   },
   "source": [
    "We will follow the same flow you can find in [Chapter 2 of Bayes Rules!](https://www.bayesrulesbook.com/chapter-2#michelle-simple) to explain the core Bayesian concepts (**Example: Pop vs soda vs coke**). But firstly, stacked bar charts by proportions can give us a useful graphical insight."
   ]
  },
  {
   "cell_type": "code",
   "execution_count": 3,
   "metadata": {
    "editable": true,
    "slideshow": {
     "slide_type": "skip"
    },
    "tags": [
     "hide-input"
    ]
   },
   "outputs": [
    {
     "data": {
      "image/png": "[encoded data removed]",
      "text/plain": [
       "plot without title"
      ]
     },
     "metadata": {
      "image/png": {
       "height": 480,
       "width": 720
      }
     },
     "output_type": "display_data"
    }
   ],
   "source": [
    "options(repr.plot.height = 8, repr.plot.width = 12)\n",
    "\n",
    "# Proportions summary\n",
    "tinder_sample.prop.summary <- as.data.frame(xtabs(\n",
    "  ~ rel_status +\n",
    "    tinder,\n",
    "  tinder_obs_sample\n",
    ") / rowSums(xtabs(\n",
    "  ~ rel_status + tinder,\n",
    "  tinder_obs_sample\n",
    ")), responseName = \"prop\")\n",
    "\n",
    "# Stacked bar charts\n",
    "tinder_sample.stacked.bars <- ggplot(tinder_sample.prop.summary, aes(\n",
    "  x = rel_status,\n",
    "  y = prop, fill = tinder\n",
    ")) +\n",
    "  geom_bar(stat = \"identity\", linewidth = 0.7, colour = \"black\") +\n",
    "  geom_text(aes(label = ifelse(prop >= 0.05, paste0(sprintf(\"%.0f\", prop * 100), \"%\"), \"\")),\n",
    "    position = position_stack(vjust = 0.5), colour = \"firebrick3\", fontface = \"bold\", size = 9\n",
    "  ) +\n",
    "  scale_y_continuous(labels = percent_format()) +\n",
    "  labs(y = \"Percentage\", x = \"Relationship Status\", fill = \"\") +\n",
    "  ggtitle(\"Stacked Bar Charts of Observed Tinder Sample\") +\n",
    "  theme(\n",
    "    plot.title = element_text(size = 24, face = \"bold\"),\n",
    "    axis.text.x = element_text(size = 17, angle = 0),\n",
    "    axis.text.y = element_text(size = 17, angle = 0),\n",
    "    axis.title = element_text(size = 21),\n",
    "    legend.text = element_text(size = 21, margin = margin(r = 1, unit = \"cm\")),\n",
    "    legend.title = element_text(size = 21, face = \"bold\")\n",
    "  ) +\n",
    "  guides(fill = guide_legend(title = \"Tinder Status\")) +\n",
    "  scale_fill_brewer(palette = \"Blues\")\n",
    "\n",
    "tinder_sample.stacked.bars"
   ]
  },
  {
   "cell_type": "markdown",
   "metadata": {
    "editable": true,
    "slideshow": {
     "slide_type": "slide"
    },
    "tags": []
   },
   "source": [
    "**From our observed evidence**, note that the use of Tinder does not look too promising."
   ]
  },
  {
   "cell_type": "markdown",
   "metadata": {
    "editable": true,
    "slideshow": {
     "slide_type": "slide"
    },
    "tags": []
   },
   "source": [
    "### 2.3. The Prior\n",
    "\n",
    "Our **primary** event of interest would be $L$ (**they found a partner**). Suppose you found a **prior Vancouver observational study** of size `200` called `prior_sample`. Nevertheless, they only observed whether the adult subjects were partnered or not. "
   ]
  },
  {
   "cell_type": "markdown",
   "metadata": {},
   "source": [
    "```{attention}\n",
    "Note this `prior_sample` in our Bayesian inference **will give us valuable PRIOR insights into how Vancouver's population behaves in terms of whether they are more prone to be in a relationship or not**. This is quite important for us to know, besides using Tinder to be in a relationship!\n",
    "```"
   ]
  },
  {
   "cell_type": "code",
   "execution_count": 4,
   "metadata": {
    "editable": true,
    "slideshow": {
     "slide_type": "fragment"
    },
    "tags": []
   },
   "outputs": [
    {
     "data": {
      "text/html": [
       "<table class=\"dataframe\">\n",
       "<caption>A tabyl: 3 × 3</caption>\n",
       "<thead>\n",
       "\t<tr><th></th><th scope=col>rel_status</th><th scope=col>n</th><th scope=col>percent</th></tr>\n",
       "\t<tr><th></th><th scope=col>&lt;chr&gt;</th><th scope=col>&lt;int&gt;</th><th scope=col>&lt;dbl&gt;</th></tr>\n",
       "</thead>\n",
       "<tbody>\n",
       "\t<tr><th scope=row>1</th><td>Non-Partnered</td><td> 84</td><td>0.42</td></tr>\n",
       "\t<tr><th scope=row>2</th><td>Partnered    </td><td>116</td><td>0.58</td></tr>\n",
       "\t<tr><th scope=row>3</th><td>Total        </td><td>200</td><td>1.00</td></tr>\n",
       "</tbody>\n",
       "</table>\n"
      ],
      "text/latex": [
       "A tabyl: 3 × 3\n",
       "\\begin{tabular}{r|lll}\n",
       "  & rel\\_status & n & percent\\\\\n",
       "  & <chr> & <int> & <dbl>\\\\\n",
       "\\hline\n",
       "\t1 & Non-Partnered &  84 & 0.42\\\\\n",
       "\t2 & Partnered     & 116 & 0.58\\\\\n",
       "\t3 & Total         & 200 & 1.00\\\\\n",
       "\\end{tabular}\n"
      ],
      "text/markdown": [
       "\n",
       "A tabyl: 3 × 3\n",
       "\n",
       "| <!--/--> | rel_status &lt;chr&gt; | n &lt;int&gt; | percent &lt;dbl&gt; |\n",
       "|---|---|---|---|\n",
       "| 1 | Non-Partnered |  84 | 0.42 |\n",
       "| 2 | Partnered     | 116 | 0.58 |\n",
       "| 3 | Total         | 200 | 1.00 |\n",
       "\n"
      ],
      "text/plain": [
       "  rel_status    n   percent\n",
       "1 Non-Partnered  84 0.42   \n",
       "2 Partnered     116 0.58   \n",
       "3 Total         200 1.00   "
      ]
     },
     "metadata": {},
     "output_type": "display_data"
    }
   ],
   "source": [
    "prior_sample <- read_csv(\"../data/prior_sample.csv\", show_col_types = FALSE)\n",
    "prior_sample |> \n",
    "  tabyl(rel_status) |> \n",
    "  adorn_totals(\"row\") "
   ]
  },
  {
   "cell_type": "markdown",
   "metadata": {
    "editable": true,
    "slideshow": {
     "slide_type": "slide"
    },
    "tags": []
   },
   "source": [
    "Now, **suppose we want to infer the relationship status of adults in Vancouver**; our prior probability model (determined by the `prior_sample`) provides these probabilities:\n",
    "\n",
    "```{math}\n",
    "\\begin{gather*}\n",
    "P_{prior}(L) = 0.58 \\\\\n",
    "P_{prior}(L^c) = 1 - 0.58 = 0.42\n",
    "\\end{gather*}\n",
    "```\n",
    "\n",
    "Note these prior probabilities add up to one, i.e., we are considering all possible outcomes in $L$ (**which is binary in this case!**). It is more probable that an adult person is partnered in this city, as we can see from the **sampled** prior probabilities!"
   ]
  },
  {
   "cell_type": "markdown",
   "metadata": {
    "editable": true,
    "slideshow": {
     "slide_type": "slide"
    },
    "tags": []
   },
   "source": [
    "### 2.4. Conditional Probability and Likelihood\n",
    "\n",
    "We will get even more information from `tinder_obs_sample` by taking into account the use of Tinder (i.e., event $T$). **This data incorporation will determine whether the use of Tinder is more related to people that end up partnered compared to those who remain single (as shown in our previous stacked bar charts).** We need to obtain these conditional probabilities: \n",
    "\n",
    "$$P(T \\mid L) = \\frac{P(T \\cap L)}{P(L)} \\quad \\text{and} \\quad P(T \\mid L^c) = \\frac{P(T \\cap L^c)}{P(L^c)}$$"
   ]
  },
  {
   "cell_type": "markdown",
   "metadata": {},
   "source": [
    "```{important}\n",
    "We need to clarify that $P(T \\mid L) \\neq P(L \\mid T)$. **$P(L \\mid T)$ is our ultimate inferential result according to the main statistical inquiry.**\n",
    "```"
   ]
  },
  {
   "cell_type": "markdown",
   "metadata": {},
   "source": [
    "**How can we compute $P(T \\mid L)$ and $P(T \\mid L^c)$?** We need the following absolute frequencies:"
   ]
  },
  {
   "cell_type": "code",
   "execution_count": 5,
   "metadata": {
    "editable": true,
    "slideshow": {
     "slide_type": "slide"
    },
    "tags": []
   },
   "outputs": [
    {
     "data": {
      "text/html": [
       "<table class=\"dataframe\">\n",
       "<caption>A tabyl: 3 × 3</caption>\n",
       "<thead>\n",
       "\t<tr><th></th><th scope=col>rel_status</th><th scope=col>Non-User</th><th scope=col>User</th></tr>\n",
       "\t<tr><th></th><th scope=col>&lt;chr&gt;</th><th scope=col>&lt;dbl&gt;</th><th scope=col>&lt;dbl&gt;</th></tr>\n",
       "</thead>\n",
       "<tbody>\n",
       "\t<tr><th scope=row>1</th><td>Non-Partnered</td><td> 4</td><td>58</td></tr>\n",
       "\t<tr><th scope=row>2</th><td>Partnered    </td><td>25</td><td>13</td></tr>\n",
       "\t<tr><th scope=row>3</th><td>Total        </td><td>29</td><td>71</td></tr>\n",
       "</tbody>\n",
       "</table>\n"
      ],
      "text/latex": [
       "A tabyl: 3 × 3\n",
       "\\begin{tabular}{r|lll}\n",
       "  & rel\\_status & Non-User & User\\\\\n",
       "  & <chr> & <dbl> & <dbl>\\\\\n",
       "\\hline\n",
       "\t1 & Non-Partnered &  4 & 58\\\\\n",
       "\t2 & Partnered     & 25 & 13\\\\\n",
       "\t3 & Total         & 29 & 71\\\\\n",
       "\\end{tabular}\n"
      ],
      "text/markdown": [
       "\n",
       "A tabyl: 3 × 3\n",
       "\n",
       "| <!--/--> | rel_status &lt;chr&gt; | Non-User &lt;dbl&gt; | User &lt;dbl&gt; |\n",
       "|---|---|---|---|\n",
       "| 1 | Non-Partnered |  4 | 58 |\n",
       "| 2 | Partnered     | 25 | 13 |\n",
       "| 3 | Total         | 29 | 71 |\n",
       "\n"
      ],
      "text/plain": [
       "  rel_status    Non-User User\n",
       "1 Non-Partnered  4       58  \n",
       "2 Partnered     25       13  \n",
       "3 Total         29       71  "
      ]
     },
     "metadata": {},
     "output_type": "display_data"
    }
   ],
   "source": [
    "tinder_obs_sample |> \n",
    "  tabyl(rel_status, tinder) |> \n",
    "  adorn_totals(\"row\") "
   ]
  },
  {
   "cell_type": "markdown",
   "metadata": {
    "editable": true,
    "slideshow": {
     "slide_type": "slide"
    },
    "tags": []
   },
   "source": [
    "Hence:\n",
    "\n",
    "```{math}\n",
    "\\begin{gather*}\n",
    "P(T \\mid L) = \\frac{P(T \\cap L)}{P(L)} = \\frac{\\frac{13}{100}}{\\frac{25 + 13}{100}} = 0.34 \\\\\n",
    "P(T \\mid L^c) = \\frac{P(T \\cap L^c)}{P(L^c)} = \\frac{\\frac{58}{100}}{\\frac{4 + 58}{100}} = 0.94\n",
    "\\end{gather*}\n",
    "```\n",
    "\n",
    "These two results can be found in our stacked bar charts. We can interpret them as follows:\n",
    "\n",
    "- $P(T \\mid L)$: **IF** a person ends up partnered, there is a 34% chance they used Tinder.\n",
    "- $P(T \\mid L^c)$: **IF** a person remains single, there is a 94% chance they used Tinder."
   ]
  },
  {
   "cell_type": "markdown",
   "metadata": {
    "slideshow": {
     "slide_type": "slide"
    }
   },
   "source": [
    "These two previous conditional probabilities are the evidence provided by our `tinder_obs_sample`, which incorporates both events of interest: $L$ and $T$. According to these results, a single person in Vancouver who uses Tinder is more **LIKELY** to remain single than end up partnered."
   ]
  },
  {
   "cell_type": "markdown",
   "metadata": {
    "editable": true,
    "slideshow": {
     "slide_type": "slide"
    },
    "tags": []
   },
   "source": [
    "```{caution}\n",
    "**Possibly**, we might be confused about whether our study is actually giving us $P(L \\mid T)$ instead of $P(T \\mid L)$. Therefore, we might be tempted to say: \n",
    "\n",
    "> *OK, we do not need to use any Bayesian reasoning with prior knowledge since our study suffices! Then, we would solve our main statistical right away.*\n",
    "\n",
    "However, **that is not the case in the Bayesian world**.\n",
    "```"
   ]
  },
  {
   "cell_type": "markdown",
   "metadata": {
    "editable": true,
    "slideshow": {
     "slide_type": "slide"
    },
    "tags": []
   },
   "source": [
    "Having said that, the **\"more likely\"** idea paves the way to another core concept in Bayesian inference: **the likelihood function**. \n",
    "\n",
    "We use the following notation:\n",
    "\n",
    "$$\\mathscr{l}(L \\mid T) = P(T \\mid L) \\quad \\text{and} \\quad \\mathscr{l}(L^c \\mid T) = P(T \\mid L^c)$$"
   ]
  },
  {
   "cell_type": "markdown",
   "metadata": {
    "editable": true,
    "slideshow": {
     "slide_type": "slide"
    },
    "tags": []
   },
   "source": [
    "How to interpret $\\mathscr{l}(L \\mid T)$ and $\\mathscr{l}(L^c \\mid T)$?\n",
    "\n",
    "- $\\mathscr{l}(L \\mid T) = 0.34$ indicates how likely a person will end up partenered if we primarily know they use Tinder. **The use of Tinder is our primary observed evidence.**\n",
    "- $\\mathscr{l}(L^c \\mid T) = 0.94$ indicates how likely a person will remain single if we primarily know they use Tinder. **The use of Tinder is our primary observed evidence.**"
   ]
  },
  {
   "cell_type": "markdown",
   "metadata": {
    "editable": true,
    "slideshow": {
     "slide_type": ""
    },
    "tags": []
   },
   "source": [
    "\n",
    "```{attention}\n",
    "A likelihood function is **NOT** a probability function, thus it does **NOT** need to add up to one.\n",
    "```"
   ]
  },
  {
   "cell_type": "markdown",
   "metadata": {
    "slideshow": {
     "slide_type": "slide"
    }
   },
   "source": [
    "The following table summarizes our event of interest $L$ (being partenered or not):\n",
    "\n",
    "| Event | $L$ | $L^c$ | Total|\n",
    "| --- | --- | --- | --- |\n",
    "| Prior | 0.58 | 0.42 | 1 |\n",
    "| Likelihood | 0.34 | 0.94 | 1.28 |"
   ]
  },
  {
   "cell_type": "markdown",
   "metadata": {},
   "source": [
    "```{important}\n",
    "Note the data (likelihood of 0.94) suggests that using Tinder to to find a partner in Vancouver is not the best idea! This is the evidence provided by our `tinder_obs_sample`.\n",
    "```"
   ]
  },
  {
   "cell_type": "markdown",
   "metadata": {
    "slideshow": {
     "slide_type": "slide"
    }
   },
   "source": [
    "### 2.5. Normalizing Constant\n",
    "\n",
    "We are almost getting into the Bayes' rule and posterior probabilities to solve our inquiry.\n",
    "\n",
    "Now, we proceed to a concept called the **normalizing constant**. A normalizing constant refers to the marginal probability of using Tinder **regardless** we end up partnered or not. Let us find this normalizing constant via `tinder_obs_sample` and `prior_sample`."
   ]
  },
  {
   "cell_type": "markdown",
   "metadata": {
    "editable": true,
    "slideshow": {
     "slide_type": "slide"
    },
    "tags": []
   },
   "source": [
    "In this specific case, for our ultimate goal $P(L \\mid T)$, check the following:\n",
    "\n",
    "```{math}\n",
    "\\begin{align*}\n",
    "P(L \\mid T) &= \\frac{P(L \\cap T)}{P(T)} \\\\\n",
    "&= \\frac{P_{prior}(L) \\times P(T \\mid L)}{P(T)} \\\\\n",
    "&= \\frac{P_{prior}(L) \\times \\mathscr{l}(L \\mid T)}{P(T)} \\\\\n",
    "&= \\frac{0.58 \\times 0.34}{P(T)},\n",
    "\\end{align*}\n",
    "```"
   ]
  },
  {
   "cell_type": "markdown",
   "metadata": {
    "editable": true,
    "slideshow": {
     "slide_type": "slide"
    },
    "tags": []
   },
   "source": [
    "where $P_{prior}(L) = 0.58$ is the estimated proportion of partnered adults in Vancouver coming from the `prior_sample`, and $\\mathscr{l}(L \\mid T) = 0.34$ indicates how likely a person will end up partenered if we primarily know they use Tinder (coming from `tinder_obs_sample`)."
   ]
  },
  {
   "cell_type": "markdown",
   "metadata": {
    "editable": true,
    "slideshow": {
     "slide_type": "slide"
    },
    "tags": []
   },
   "source": [
    "Nevertheless, $P(T)$ is missing and we call it the normalizing constant. We can easily obtain it through the **Law of Total Probability** (note the tweak in the second line to **observed likelihood values**!):\n",
    "\n",
    "```{math}\n",
    "\\begin{align*}\n",
    "P(T) &= [P(T \\mid L) \\times P_{prior}(L)] + [P(T \\mid L^c) \\times P_{prior}(L^c)]  \\\\\n",
    "&= [\\mathscr{l}(L \\mid T) \\times P_{prior}(L)] + [\\mathscr{l}(L^c \\mid T) \\times P_{prior}(L^c)] \\\\\n",
    "&= (0.34 \\times 0.58) + (0.94 \\times 0.42) \\\\\n",
    "&= 0.592.\n",
    "\\end{align*}\n",
    "```"
   ]
  },
  {
   "cell_type": "markdown",
   "metadata": {
    "editable": true,
    "slideshow": {
     "slide_type": "fragment"
    },
    "tags": []
   },
   "source": [
    "```{attention}\n",
    "$P_{prior}(L)$ and $P_{prior}(L^c)$ come from `prior_sample`, whereas $\\mathscr{l}(L \\mid T)$ and $\\mathscr{l}(L^c \\mid T)$ come `tinder_obs_sample`.\n",
    "```"
   ]
  },
  {
   "cell_type": "markdown",
   "metadata": {
    "editable": true,
    "slideshow": {
     "slide_type": "slide"
    },
    "tags": []
   },
   "source": [
    "### 2.6. Bayes' Rule and Posterior Probability"
   ]
  },
  {
   "cell_type": "markdown",
   "metadata": {
    "slideshow": {
     "slide_type": "slide"
    }
   },
   "source": [
    "Using our previous computation, we plug in $P(T)$:\n",
    "\n",
    "$$P(L \\mid T) = \\frac{0.58 \\times 0.34}{0.592} = 0.33.$$"
   ]
  },
  {
   "cell_type": "markdown",
   "metadata": {
    "editable": true,
    "slideshow": {
     "slide_type": "slide"
    },
    "tags": []
   },
   "source": [
    "We can do something analogous with $P(L^c \\mid T)$:\n",
    "\n",
    "```{math}\n",
    "\\begin{align*}\n",
    "P(L^c \\mid T) &= \\frac{P(L^c \\cap T)}{P(T)} \\\\\n",
    "&= \\frac{P_{prior}(L^c) \\times P(T \\mid L^c)}{P(T)} \\\\\n",
    "&= \\frac{P_{prior}(L^c) \\times \\mathscr{l}(L^c \\mid T)}{P(T)} \\\\\n",
    "&= \\frac{0.42 \\times 0.94}{0.592} = 0.67.\n",
    "\\end{align*}\n",
    "```\n",
    "\n",
    "**Note this is the complement of $P(L \\mid T)$.**"
   ]
  },
  {
   "cell_type": "markdown",
   "metadata": {
    "editable": true,
    "slideshow": {
     "slide_type": "slide"
    },
    "tags": []
   },
   "source": [
    "Given our results in $P(L \\mid T)$ and $P(L^c \\mid T)$, we can produce the following table:\n",
    "\n",
    "| Event | $L$ | $L^c$ | Total|\n",
    "| --- | --- | --- | --- |\n",
    "| Prior | 0.58 | 0.42 | 1 |\n",
    "| Posterior | 0.33 | 0.67 | 1 |"
   ]
  },
  {
   "cell_type": "markdown",
   "metadata": {
    "slideshow": {
     "slide_type": "slide"
    }
   },
   "source": [
    "Let us answer our main statistical inquiry:\n",
    "\n",
    "> As a single person in Vancouver, there is a 33% chance we will end up partnered **IF** we use Tinder. Moreover, there is a 67% chance we will **NOT** end up partnered **IF** we use Tinder. "
   ]
  },
  {
   "cell_type": "markdown",
   "metadata": {
    "slideshow": {
     "slide_type": "fragment"
    }
   },
   "source": [
    "Now, our posterior knowledge of ending up partnered or not was updated with incorporating the information conditioned on the use of Tinder (the prior model **DID NOT** include that). Therefore, according to this posterior model, **it is VERY DISHEARTENING to use Tinder to find a partner in Vancouver**."
   ]
  },
  {
   "cell_type": "markdown",
   "metadata": {
    "slideshow": {
     "slide_type": "slide"
    }
   },
   "source": [
    "```{important}\n",
    "**This is Bayesian inference!**\n",
    "\n",
    "1. Hidden variables of interest are **random** (the **prior distribution**).\n",
    "2. We use the **conditional distribution** of hidden variables given observations (the **posterior distribution**) to capture uncertainty.\n",
    "```"
   ]
  },
  {
   "cell_type": "markdown",
   "metadata": {
    "editable": true,
    "slideshow": {
     "slide_type": "slide"
    },
    "tags": []
   },
   "source": [
    "**Formal Definition of Bayes' Rule**\n",
    "\n",
    "Let $L$ and $T$ be two events of interest, the posterior probability of $L$ given $T$ is given by:\n",
    "\n",
    "$$P(L \\mid T) = \\frac{P(L \\cap T)}{P(T)} = \\frac{P(L) P(T \\mid L)}{P(T)},$$\n",
    "\n",
    "where the total probability is\n",
    "\n",
    "```{math}\n",
    "\\begin{align*}\n",
    "P(T) &= [P(T \\mid L) \\times P(L)] + [P(T \\mid L^c) \\times P(L^c)].\n",
    "\\end{align*}\n",
    "```\n",
    "\n",
    "In general, for any continous or discrete case, this is defined as:\n",
    "\n",
    "```{math}\n",
    ":label: full-bayes-rule\n",
    "\\text{posterior} = \\frac{\\text{prior} \\times \\text{likelihood}}{\\text{normalizing constant}}\n",
    "```\n",
    "\n",
    "$$\\text{posterior} \\propto \\text{prior} \\times \\text{likelihood}$$\n",
    "\n",
    "**We know the likelihood and prior, they are our generative model!**"
   ]
  },
  {
   "cell_type": "markdown",
   "metadata": {
    "editable": true,
    "slideshow": {
     "slide_type": "slide"
    },
    "tags": []
   },
   "source": [
    "**Once you have the posterior, you have everything!**\n",
    "\n",
    "The posterior distribution is ... well, a distribution! So we can use it for:\n",
    "\n",
    "- **Point Estimates:** mean, mode, median.\n",
    "- **Uncertainty:** variance, credible intervals.\n",
    "- **Prediction:** generate more data given previous data.\n",
    "\n",
    "Our description of uncertainty is intuitive; it is a probability distribution over the parameters we do not know!"
   ]
  },
  {
   "cell_type": "markdown",
   "metadata": {
    "slideshow": {
     "slide_type": "slide"
    }
   },
   "source": [
    "### 2.7. Rule of Independent Events\n",
    "\n",
    "Once we have defined the Bayes' rule, we can proceed with the rule of independent events. Aside from our previous example, assume that event $T$ has **no effect** on event $L$. We can represent this matter as follows:\n",
    "\n",
    "$$P(L \\mid T) = P(L).$$\n",
    "\n",
    "**If the statement above holds**, by the Bayes' rule, we have:\n",
    "\n",
    "```{math}\n",
    "\\begin{align*}\n",
    "P(T \\mid L) &= \\frac{P(T \\cap L)}{P(L)} = \\frac{P(L \\mid T) P(T)}{P(L)} \\\\\n",
    "&= \\frac{P(L) P(T)}{P(L)} \\qquad \\qquad \\text{since } P(L \\mid T) = P(L)\\\\\n",
    "&= P(T).\n",
    "\\end{align*}\n",
    "```"
   ]
  },
  {
   "cell_type": "markdown",
   "metadata": {
    "slideshow": {
     "slide_type": "slide"
    }
   },
   "source": [
    "Again, using the Bayes' rule, how can we obtain $P(T \\cap L)$? We have that:\n",
    "\n",
    "$$P(T \\cap L) = P(T \\mid L) P(L).$$\n",
    "\n",
    "And we previously derived that:\n",
    "\n",
    "$$P(T \\mid L) = P(T).$$\n",
    "\n",
    "Therefore, two events ($L$ and $T$) are statistically independent if\n",
    "\n",
    "$$P(T \\cap L)  = P(T) \\times P(L).$$"
   ]
  },
  {
   "cell_type": "markdown",
   "metadata": {
    "slideshow": {
     "slide_type": "slide"
    }
   },
   "source": [
    "## 3. Maximum a Posteriori Estimation (MAP) and Maximum Likelihood Estimation (MLE)"
   ]
  },
  {
   "cell_type": "markdown",
   "metadata": {
    "slideshow": {
     "slide_type": "fragment"
    }
   },
   "source": [
    "**Maximum a posteriori (MAP) estimation is the Bayesian version of maximum likelihood estimation (MLE).** Let us compare both approaches:\n",
    "\n",
    "- MLE aims to find the value that maximizes the sample's likelihood function (i.e., we are just relying on our observed sampled data!).\n",
    "- MAP aims to obtain the value that maximizes our posterior distribution, which was obtained with our **observed data** (i.e., our evidence via the likelihood) weighted by our **prior probability model**. Recall the fundamental result for our posterior:\n",
    "\n",
    "$$\\text{posterior} \\propto \\text{prior} \\times \\text{likelihood}$$"
   ]
  },
  {
   "cell_type": "markdown",
   "metadata": {
    "slideshow": {
     "slide_type": "slide"
    }
   },
   "source": [
    "Mathematically, we can define the MAP as:\n",
    "\n",
    "$$\\theta^\\star_{\\text{MAP}} = \\arg\\!\\max_\\theta f_{\\theta | \\mathbf{x}}(\\theta)$$\n",
    "\n",
    "where $f_{\\theta | \\mathbf{x}}(\\theta)$ is the posterior distribution of our parameter of interest $\\theta$ **given** our observed data $\\mathbf{x} = (x_1, \\dots, x_n)'$ (the likelihood) weighted by our prior belief on $\\theta$."
   ]
  },
  {
   "cell_type": "markdown",
   "metadata": {
    "slideshow": {
     "slide_type": "slide"
    }
   },
   "source": [
    "In practice, using the posterior probability distribution of our parameter of interest, we can obtain the MAP:\n",
    "\n",
    "- It will be the value associated with the maximum posterior probability in the case of a continuous population parameter of interest.\n",
    "- It will be the category with the largest posterior probability in discrete variables of this class. For instance, the event **not ending up partnered ($L^c$)** in the Tinder example.\n",
    "\n",
    "| Event | $L$ | $L^c$ | Total|\n",
    "| --- | --- | --- | --- |\n",
    "| Prior | 0.58 | 0.42 | 1 |\n",
    "| Posterior | 0.33 | 0.67 | 1 |"
   ]
  },
  {
   "cell_type": "markdown",
   "metadata": {
    "slideshow": {
     "slide_type": "slide"
    }
   },
   "source": [
    "## 4. Wrapping Up\n",
    "\n",
    "- Conditional probability is necessary to get into the Bayes' rule.\n",
    "- In Bayesian inference, we rely on two key components to obtain our posterior probability: the likelihood (evidence provided by our data) and the prior probability model for our parameter of interest (our prior belief).\n",
    "- The Bayes' rule applies to both discrete and continuous random variables.\n",
    "- In Bayesian inference, MAP is the replacement of MLE."
   ]
  },
  {
   "cell_type": "markdown",
   "metadata": {
    "slideshow": {
     "slide_type": "slide"
    }
   },
   "source": [
    "## 5. Probability Puzzle (if time permits)\n",
    "\n",
    "The following puzzle was taken from [Casella and Berger (2002)](https://webcat.library.ubc.ca/vwebv/holdingsInfo?bibId=2519113).\n",
    "\n",
    "> When coded messages are sent, there are sometimes errors in transmission. In particular, Morse code uses \"dots\" and \"dashes\", which are known to occur in the proportion of 3:4. This means that for any given symbol,\n",
    ">\n",
    ">$$P(\\text{dot sent}) = \\frac{3}{7} \\quad \\text{and} \\quad P(\\text{dash sent}) = \\frac{4}{7}.$$\n",
    ">\n",
    "> Suppose there is intereference on the transmission line, and with probability $\\frac{1}{8}$ a dot is mistakenly received as a dash, and vice versa. **If we receive a dot, what is the probability that a dot was sent?**"
   ]
  },
  {
   "cell_type": "markdown",
   "metadata": {
    "slideshow": {
     "slide_type": "slide"
    }
   },
   "source": [
    "**Answer**\n",
    "\n",
    "Using the so-called Bayes' rule, we have the following:\n",
    "\n",
    "```{math}\n",
    "\\begin{align*}\n",
    "P(\\text{dot sent} \\mid \\text{dot received}) &= \\frac{P(\\text{dot sent} \\cap \\text{dot received})}{P(\\text{dot received})} \\\\\n",
    "&= \\frac{P(\\text{dot received} \\mid \\text{dot sent}) P(\\text{dot sent})}{P(\\text{dot received})}.\n",
    "\\end{align*}\n",
    "```\n",
    "\n",
    "We know the following:\n",
    "\n",
    "$$P(\\text{dot sent}) = \\frac{3}{7}$$\n",
    "\n",
    "```{math}\n",
    "\\begin{align*}\n",
    "P(\\text{dot received} \\mid \\text{dot sent}) &= 1 - P(\\text{dash received} \\mid \\text{dot sent}) \\\\\n",
    "&= 1 - \\frac{1}{8} = \\frac{7}{8}.\n",
    "\\end{align*}\n",
    "```"
   ]
  },
  {
   "cell_type": "markdown",
   "metadata": {
    "slideshow": {
     "slide_type": "slide"
    }
   },
   "source": [
    "We already have two probabilities. Now, how can we obtain $P(\\text{dot received})$?"
   ]
  },
  {
   "cell_type": "markdown",
   "metadata": {
    "slideshow": {
     "slide_type": "fragment"
    }
   },
   "source": [
    "Let us apply the law of **total probability** we just saw in the Tinder example:\n",
    "\n",
    "```{math}\n",
    "\\begin{align*}\n",
    "P(\\text{dot received}) &= P(\\text{dot received} \\cap \\text{dot sent}) + P(\\text{dot received} \\cap \\text{dash sent})\\\\\n",
    "&= P(\\text{dot received} \\mid \\text{dot sent}) P(\\text{dot sent}) + (\\text{dot received} \\mid \\text{dash sent}) P(\\text{dash sent}) \\\\\n",
    "&= \\frac{7}{8} \\times \\frac{3}{7} + \\frac{1}{8} \\times \\frac{4}{7} = \\frac{25}{56}.\n",
    "\\end{align*}\n",
    "```"
   ]
  },
  {
   "cell_type": "markdown",
   "metadata": {
    "slideshow": {
     "slide_type": "fragment"
    }
   },
   "source": [
    "Now, we have the three probabilities!\n",
    "\n",
    "$$P(\\text{dot sent} \\mid \\text{dot received}) = \\frac{P(\\text{dot received} \\mid \\text{dot sent}) P(\\text{dot sent})}{P(\\text{dot received})} = \\frac{(7/8) \\times (3/7)}{25/56} = \\frac{21}{25}.$$"
   ]
  }
 ],
 "metadata": {
  "celltoolbar": "Tags",
  "kernelspec": {
   "display_name": "R",
   "language": "R",
   "name": "ir"
  },
  "language_info": {
   "codemirror_mode": "r",
   "file_extension": ".r",
   "mimetype": "text/x-r-source",
   "name": "R",
   "pygments_lexer": "r",
   "version": "4.4.1"
  },
  "rise": {
   "transition": "fade"
  }
 },
 "nbformat": 4,
 "nbformat_minor": 4
}
